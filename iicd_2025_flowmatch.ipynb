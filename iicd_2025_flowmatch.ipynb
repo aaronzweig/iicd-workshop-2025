{
 "cells": [
  {
   "cell_type": "markdown",
   "metadata": {
    "tags": []
   },
   "source": [
    "# Single-cell Time Series Interpolation\n",
    "\n",
    "This notebook is taken with some edits from the repo https://github.com/atong01/conditional-flow-matching/tree/main\n",
    "\n",
    "Note that to run this notebook you well need the `ebdata_v3.h5ad` data object, which is accessible at https://data.mendeley.com/datasets/hhny5ff7yj/1"
   ]
  },
  {
   "cell_type": "markdown",
   "metadata": {},
   "source": [
    "### Part 1:\n",
    "\n",
    "In order to run flow matching, you need a choice of conditional probability path and conditional velocity that solve the continuity equation: $$\\partial_t p_t = - \\nabla \\cdot (v_t p_t)$$\n",
    "\n",
    "The most common choice is conditioning on input points $x_0$ and $x_1$, of the form: $$p_t(x | x_0, x_1) = \\mathcal{N}(x; (1-t)x_0 + tx_1, \\sigma^2)$$ $$v_t(x | x_0, x_1) = x_1 - x_0$$\n",
    "\n",
    "First of all, before implementing flow matching, prove that these choices actually do satisfy the continuity equation.\n",
    "\n",
    "Hint: divide by $p_t$ and work with $\\log p_t$ instead"
   ]
  },
  {
   "cell_type": "markdown",
   "metadata": {},
   "source": [
    "### Part 2:\n",
    "\n",
    "We will take the skeleton of the flow matching implementation given at https://github.com/atong01/conditional-flow-matching/tree/main and fill in the details given the above parameterization.  \n",
    "\n",
    "Fill in the functions with 'pass' instead of 'return' below, and then try using FlowMatcher (which pairs points with the product coupling) and OTFlowMatcher (which pairs points using the coupling from minibatch OT).  Observe the difference in the trajectories on the PHATE embedding, which is a 2D representation of single cell data that tries to preserve geometry better than a UMAP.  \n",
    "\n",
    "Why aren't the paths in the OT flow matcher exactly straight?  What happens as you vary the batch size?"
   ]
  },
  {
   "cell_type": "code",
   "execution_count": null,
   "metadata": {},
   "outputs": [],
   "source": [
    "%load_ext autoreload\n",
    "%autoreload 2\n",
    "import os\n",
    "import sys\n",
    "    \n",
    "import matplotlib.pyplot as plt\n",
    "import numpy as np\n",
    "import scanpy as sc\n",
    "import torch\n",
    "import torchsde\n",
    "from torchdyn.core import NeuralODE\n",
    "from tqdm import tqdm\n",
    "\n",
    "from torchcfm.conditional_flow_matching import *\n",
    "from torchcfm.models import MLP\n",
    "from torchcfm.utils import plot_trajectories, torch_wrapper"
   ]
  },
  {
   "cell_type": "code",
   "execution_count": null,
   "metadata": {},
   "outputs": [],
   "source": [
    "adata = sc.read_h5ad(\"data/ebdata_v3.h5ad\")\n",
    "adata"
   ]
  },
  {
   "cell_type": "code",
   "execution_count": null,
   "metadata": {},
   "outputs": [],
   "source": [
    "sc.pl.scatter(adata, basis=\"phate\", color=\"sample_labels\")"
   ]
  },
  {
   "cell_type": "code",
   "execution_count": null,
   "metadata": {},
   "outputs": [],
   "source": [
    "n_times = len(adata.obs[\"sample_labels\"].unique())\n",
    "# Standardize coordinates\n",
    "coords = adata.obsm[\"X_phate\"]\n",
    "coords = (coords - coords.mean(axis=0)) / coords.std(axis=0)\n",
    "adata.obsm[\"X_phate_standardized\"] = coords\n",
    "X = [\n",
    "    adata.obsm[\"X_phate_standardized\"][adata.obs[\"sample_labels\"].cat.codes == t]\n",
    "    for t in range(n_times)\n",
    "]"
   ]
  },
  {
   "cell_type": "code",
   "execution_count": null,
   "metadata": {},
   "outputs": [],
   "source": [
    "import math\n",
    "import warnings\n",
    "from typing import Union\n",
    "\n",
    "import torch\n",
    "\n",
    "from torchcfm.optimal_transport import OTPlanSampler"
   ]
  },
  {
   "cell_type": "code",
   "execution_count": null,
   "metadata": {},
   "outputs": [],
   "source": [
    "class FlowMatcher:\n",
    "\n",
    "    def __init__(self, sigma: Union[float, int] = 0.0):\n",
    "        \n",
    "        self.sigma = sigma\n",
    "\n",
    "    def compute_mu_t(self, x0, x1, t):\n",
    "        \"\"\"\n",
    "        Compute the mean of the probability path N(t * x1 + (1 - t) * x0, sigma**2)\n",
    "        \"\"\"\n",
    "        pass\n",
    "\n",
    "    def sample_xt(self, x0, x1, t):\n",
    "        \"\"\"\n",
    "        Draw a sample from the probability path N(t * x1 + (1 - t) * x0, sigma**2)\n",
    "        \"\"\"\n",
    "        pass\n",
    "\n",
    "    def compute_conditional_flow(self, x0, x1, t, xt):\n",
    "        \"\"\"\n",
    "        Compute the conditional vector field ut(x1|x0) = x1 - x0\n",
    "        \"\"\"\n",
    "        pass\n",
    "\n",
    "    def sample_location_and_conditional_flow(self, x0, x1, t=None):\n",
    "        \"\"\"\n",
    "        Compute the sample xt (drawn from N(t * x1 + (1 - t) * x0, sigma**2))\n",
    "        and the conditional vector field ut(x1|x0) = x1 - x0\n",
    "        \"\"\"\n",
    "        \n",
    "        t = torch.rand(x0.shape[0]).type_as(x0)\n",
    "\n",
    "        xt = self.sample_xt(x0, x1, t)\n",
    "        ut = self.compute_conditional_flow(x0, x1, t, xt)\n",
    "\n",
    "        return t, xt, ut"
   ]
  },
  {
   "cell_type": "code",
   "execution_count": null,
   "metadata": {},
   "outputs": [],
   "source": [
    "class OTFlowMatcher(FlowMatcher):\n",
    "\n",
    "    def __init__(self, sigma: Union[float, int] = 0.0):\n",
    "\n",
    "        super().__init__(sigma)\n",
    "        self.ot_sampler = OTPlanSampler(method=\"exact\")\n",
    "\n",
    "    def sample_location_and_conditional_flow(self, x0, x1):\n",
    "        r\"\"\"\n",
    "        Compute the sample xt (drawn from N(t * x1 + (1 - t) * x0, sigma))\n",
    "        and the conditional vector field ut(x1|x0) = x1 - x0\n",
    "        with respect to the minibatch OT plan $\\Pi$.\n",
    "        \"\"\"\n",
    "        x0, x1 = self.ot_sampler.sample_plan(x0, x1)\n",
    "        return super().sample_location_and_conditional_flow(x0, x1, t)"
   ]
  },
  {
   "cell_type": "code",
   "execution_count": null,
   "metadata": {},
   "outputs": [],
   "source": [
    "##############################################################################################"
   ]
  },
  {
   "cell_type": "code",
   "execution_count": null,
   "metadata": {},
   "outputs": [],
   "source": [
    "use_cuda = torch.cuda.is_available()\n",
    "device = torch.device(\"cuda\" if use_cuda else \"cpu\")\n",
    "batch_size = 256\n",
    "sigma = 0.1\n",
    "dim = 2\n",
    "ot_cfm_model = MLP(dim=dim, time_varying=True, w=64).to(device)\n",
    "ot_cfm_optimizer = torch.optim.Adam(ot_cfm_model.parameters(), 1e-4)\n",
    "\n",
    "FM = None\n",
    "# FM = FlowMatcher(sigma=sigma)\n",
    "# FM = OTFlowMatcher(sigma=sigma)"
   ]
  },
  {
   "cell_type": "code",
   "execution_count": null,
   "metadata": {},
   "outputs": [],
   "source": [
    "label_dict = {'Day 00-03': 0, 'Day 06-09': 1, 'Day 12-15': 2, 'Day 18-21': 3, 'Day 24-27': 4}\n",
    "labels = [label_dict[x] for x in adata.obs[\"sample_labels\"].tolist()]"
   ]
  },
  {
   "cell_type": "code",
   "execution_count": null,
   "metadata": {},
   "outputs": [],
   "source": [
    "def plot_trajectories(traj):\n",
    "    n = 2000\n",
    "    fig, ax = plt.subplots(1, 1, figsize=(10, 10))\n",
    "    ax.scatter(\n",
    "        adata.obsm[\"X_phate_standardized\"][:, 0],\n",
    "        adata.obsm[\"X_phate_standardized\"][:, 1],\n",
    "        c=labels,\n",
    "    )\n",
    "    ax.scatter(traj[:, :n, 0], traj[:, :n, 1], s=0.4, alpha=0.1, c=\"olive\")\n",
    "\n",
    "    for i in range(15):\n",
    "        ax.plot(traj[:, i, 0], traj[:, i, 1], alpha=0.9, c=\"red\")\n",
    "\n",
    "\n",
    "def get_batch(FM, X, batch_size, n_times):\n",
    "    \"\"\"Construct a batch with point sfrom each timepoint pair\"\"\"\n",
    "    ts = []\n",
    "    xts = []\n",
    "    uts = []\n",
    "    noises = []\n",
    "    for t_start in range(n_times - 1):\n",
    "        x0 = (\n",
    "            torch.from_numpy(X[t_start][np.random.randint(X[t_start].shape[0], size=batch_size)])\n",
    "            .float()\n",
    "            .to(device)\n",
    "        )\n",
    "        x1 = (\n",
    "            torch.from_numpy(\n",
    "                X[t_start + 1][np.random.randint(X[t_start + 1].shape[0], size=batch_size)]\n",
    "            )\n",
    "            .float()\n",
    "            .to(device)\n",
    "        )\n",
    "        t, xt, ut = FM.sample_location_and_conditional_flow(x0, x1)\n",
    "        \n",
    "        ts.append(t + t_start)\n",
    "        xts.append(xt)\n",
    "        uts.append(ut)\n",
    "    t = torch.cat(ts)\n",
    "    xt = torch.cat(xts)\n",
    "    ut = torch.cat(uts)\n",
    "    return t, xt, ut"
   ]
  },
  {
   "cell_type": "markdown",
   "metadata": {},
   "source": [
    "## OT-CFM"
   ]
  },
  {
   "cell_type": "code",
   "execution_count": null,
   "metadata": {},
   "outputs": [],
   "source": [
    "for i in tqdm(range(10000)):\n",
    "    ot_cfm_optimizer.zero_grad()\n",
    "    t, xt, ut = get_batch(FM, X, batch_size, n_times)\n",
    "    vt = ot_cfm_model(torch.cat([xt, t[:, None]], dim=-1))\n",
    "    loss = torch.mean((vt - ut) ** 2)\n",
    "    loss.backward()\n",
    "    ot_cfm_optimizer.step()"
   ]
  },
  {
   "cell_type": "code",
   "execution_count": null,
   "metadata": {},
   "outputs": [],
   "source": [
    "node = NeuralODE(torch_wrapper(ot_cfm_model), solver=\"dopri5\", sensitivity=\"adjoint\")\n",
    "with torch.no_grad():\n",
    "    traj = node.trajectory(\n",
    "        torch.from_numpy(X[0][:1000]).float().to(device),\n",
    "        t_span=torch.linspace(0, n_times - 1, 400),\n",
    "    ).cpu()"
   ]
  },
  {
   "cell_type": "code",
   "execution_count": null,
   "metadata": {},
   "outputs": [],
   "source": [
    "plot_trajectories(traj.cpu().numpy())"
   ]
  },
  {
   "cell_type": "code",
   "execution_count": null,
   "metadata": {},
   "outputs": [],
   "source": []
  }
 ],
 "metadata": {
  "kernelspec": {
   "display_name": "Python [conda env:iicd_flow]",
   "language": "python",
   "name": "conda-env-iicd_flow-py"
  },
  "language_info": {
   "codemirror_mode": {
    "name": "ipython",
    "version": 3
   },
   "file_extension": ".py",
   "mimetype": "text/x-python",
   "name": "python",
   "nbconvert_exporter": "python",
   "pygments_lexer": "ipython3",
   "version": "3.9.23"
  }
 },
 "nbformat": 4,
 "nbformat_minor": 4
}
